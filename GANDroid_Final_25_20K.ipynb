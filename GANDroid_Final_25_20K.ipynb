{
 "cells": [
  {
   "cell_type": "markdown",
   "metadata": {},
   "source": [
    "# Introduction and Abstract\n",
    "* There are many black box detectors which are mostly based on Machine Learning. As a matter of fact, they have improved the security against malware attacks reasonably. But are they perfect?\n",
    "* This work shows that the black box anti-virus softwares are not reliable and can be broken down by using the same Machine Learning techniques.\n",
    "* This methodology involves training a General Adversial Network to produce malware samples that convinces the Black Box Detectors that they are benign.\n",
    "* There are some similar works done in this area, and this work is an extension of them. But most importantly, this method is used to produce malware samples that could be injected into android apps, and make them appear benign. As most of the malware is now being shared and replicated through apps, this is consdered to be severely important."
   ]
  },
  {
   "cell_type": "markdown",
   "metadata": {},
   "source": [
    "# Related Work\n",
    "* https://arxiv.org/abs/1702.05983\n",
    "* https://ieeexplore.ieee.org/abstract/document/8424635"
   ]
  },
  {
   "cell_type": "code",
   "execution_count": 1,
   "metadata": {
    "_cell_guid": "b1076dfc-b9ad-4769-8c92-a6c4dae69d19",
    "_uuid": "8f2839f25d086af736a60e9eeb907d3b93b6e0e5"
   },
   "outputs": [],
   "source": [
    "import numpy as np\n",
    "import os\n",
    "import pandas as pd\n",
    "import tensorflow as tf"
   ]
  },
  {
   "cell_type": "markdown",
   "metadata": {},
   "source": [
    "# Dataset and Features"
   ]
  },
  {
   "cell_type": "markdown",
   "metadata": {},
   "source": [
    "* The dataset is owned by Google which is used to detect malware and benign samples, given a set of apps and its features like permissions taken and API calls.\n",
    "* The data is in the form of one hot vectors with different permissions and API calls. This is well suited for generation by GAN's because of several conceptual and engineering challenges.\n",
    "* There are many works that make GAN produce tabular numeric data, but there is no proper standard and guarantee that they work all the time. Fortunately, most of the black box detectors deal with the data containing mostly categorical or just binary data.\n",
    "* Such output distribution can be modeled well by GAN's for bypassing the BBD's."
   ]
  },
  {
   "cell_type": "code",
   "execution_count": 2,
   "metadata": {
    "_cell_guid": "79c7e3d0-c299-4dcb-8224-4455121ee9b0",
    "_uuid": "d629ff2d2480ee46fbb7e2d37f6b5fab8052498a"
   },
   "outputs": [],
   "source": [
    "raw_mal = pd.read_csv('../input/ml-final-dataset/Malware_Data.csv')\n",
    "raw_benign = pd.read_csv('../input/ml-final-dataset/PlayStore Application.csv')"
   ]
  },
  {
   "cell_type": "markdown",
   "metadata": {},
   "source": [
    "## Removing missing values"
   ]
  },
  {
   "cell_type": "code",
   "execution_count": 3,
   "metadata": {},
   "outputs": [],
   "source": [
    "l = raw_benign.isnull().sum()\n",
    "rem_col = []\n",
    "for i,col in enumerate(raw_benign.columns):\n",
    "    if l[i]>1000:\n",
    "        rem_col.append(col)\n",
    "raw_benign = raw_benign.drop(rem_col,axis=1)\n",
    "raw_mal = raw_mal.drop(rem_col,axis=1)"
   ]
  },
  {
   "cell_type": "markdown",
   "metadata": {},
   "source": [
    "## Selecting the number of features"
   ]
  },
  {
   "cell_type": "code",
   "execution_count": 4,
   "metadata": {},
   "outputs": [],
   "source": [
    "no_features=350\n",
    "no_samples = 10000"
   ]
  },
  {
   "cell_type": "code",
   "execution_count": 5,
   "metadata": {},
   "outputs": [],
   "source": [
    "fin_mal = raw_mal.iloc[:,2:no_features+2]\n",
    "fin_benign = raw_benign.iloc[:20000,2:no_features+2]\n",
    "mal_labels = np.ones((fin_mal.shape[0],1))\n",
    "benign_labels = np.zeros((fin_benign.shape[0],1))"
   ]
  },
  {
   "cell_type": "code",
   "execution_count": 6,
   "metadata": {},
   "outputs": [
    {
     "name": "stdout",
     "output_type": "stream",
     "text": [
      "10000\n",
      "10000\n"
     ]
    }
   ],
   "source": [
    "print(mal_labels.shape[0])\n",
    "print(benign_labels.shape[0])\n"
   ]
  },
  {
   "cell_type": "markdown",
   "metadata": {},
   "source": [
    "# Approach\n",
    "* We first train a Black Box detector on our dataset, so that it can detect the malware and benign samples perfectly. This way, we mimic the actual BBD.\n",
    "* Then we will have a naive GAN (Generator and Discriminator) that is trained to produce malware samples that appears to be benign.\n",
    "* We observe the performance by noticing the True Positive Rate(TPR) which is defined as the rate at which the BBD correctly identifies the malware samples. So, lower the TPR, The better the performance of our model."
   ]
  },
  {
   "cell_type": "markdown",
   "metadata": {},
   "source": [
    "# Building the Black Box Detector"
   ]
  },
  {
   "cell_type": "markdown",
   "metadata": {},
   "source": [
    "* The black-box detector is an external system which adopts machine learning based malware detection algorithms. We assume that the only thing malware authors know about the black-box detector is what kind of features it uses.\n",
    "* Hence we model the black box detector and can know the performance by seeing how well we ae able to fool it.(lower TPR)"
   ]
  },
  {
   "cell_type": "code",
   "execution_count": 7,
   "metadata": {},
   "outputs": [],
   "source": [
    "total_data = pd.concat([fin_mal,fin_benign],axis=0)\n",
    "total_labels = pd.concat([pd.DataFrame(mal_labels),pd.DataFrame(benign_labels)],axis=0)"
   ]
  },
  {
   "cell_type": "code",
   "execution_count": 8,
   "metadata": {},
   "outputs": [],
   "source": [
    "from sklearn.model_selection import train_test_split\n",
    "X_train, X_test, y_train, y_test = train_test_split(total_data,total_labels,test_size=0.3)"
   ]
  },
  {
   "cell_type": "code",
   "execution_count": 9,
   "metadata": {},
   "outputs": [
    {
     "name": "stderr",
     "output_type": "stream",
     "text": [
      "/opt/conda/lib/python3.7/site-packages/ipykernel_launcher.py:3: DataConversionWarning: A column-vector y was passed when a 1d array was expected. Please change the shape of y to (n_samples,), for example using ravel().\n",
      "  This is separate from the ipykernel package so we can avoid doing imports until\n"
     ]
    },
    {
     "data": {
      "text/plain": [
       "0.9688333333333333"
      ]
     },
     "execution_count": 9,
     "metadata": {},
     "output_type": "execute_result"
    }
   ],
   "source": [
    "from sklearn.ensemble import RandomForestClassifier\n",
    "clf = RandomForestClassifier(n_estimators=200, random_state=0)\n",
    "clf.fit(total_data,total_labels)\n",
    "clf.score(X_test,y_test)"
   ]
  },
  {
   "cell_type": "code",
   "execution_count": 10,
   "metadata": {},
   "outputs": [
    {
     "name": "stderr",
     "output_type": "stream",
     "text": [
      "/opt/conda/lib/python3.7/site-packages/sklearn/model_selection/_validation.py:531: DataConversionWarning: A column-vector y was passed when a 1d array was expected. Please change the shape of y to (n_samples,), for example using ravel().\n",
      "  estimator.fit(X_train, y_train, **fit_params)\n",
      "/opt/conda/lib/python3.7/site-packages/sklearn/model_selection/_validation.py:531: DataConversionWarning: A column-vector y was passed when a 1d array was expected. Please change the shape of y to (n_samples,), for example using ravel().\n",
      "  estimator.fit(X_train, y_train, **fit_params)\n",
      "/opt/conda/lib/python3.7/site-packages/sklearn/model_selection/_validation.py:531: DataConversionWarning: A column-vector y was passed when a 1d array was expected. Please change the shape of y to (n_samples,), for example using ravel().\n",
      "  estimator.fit(X_train, y_train, **fit_params)\n",
      "/opt/conda/lib/python3.7/site-packages/sklearn/model_selection/_validation.py:531: DataConversionWarning: A column-vector y was passed when a 1d array was expected. Please change the shape of y to (n_samples,), for example using ravel().\n",
      "  estimator.fit(X_train, y_train, **fit_params)\n",
      "/opt/conda/lib/python3.7/site-packages/sklearn/model_selection/_validation.py:531: DataConversionWarning: A column-vector y was passed when a 1d array was expected. Please change the shape of y to (n_samples,), for example using ravel().\n",
      "  estimator.fit(X_train, y_train, **fit_params)\n"
     ]
    },
    {
     "name": "stdout",
     "output_type": "stream",
     "text": [
      "[0.96275 0.949   0.9165  0.913   0.8735 ]\n"
     ]
    }
   ],
   "source": [
    "from sklearn.model_selection import KFold\n",
    "from sklearn.model_selection import cross_val_score\n",
    "kf = KFold(n_splits=10)\n",
    "score = cross_val_score(RandomForestClassifier(n_estimators=100, random_state=0),total_data,total_labels)\n",
    "print(score)"
   ]
  },
  {
   "cell_type": "code",
   "execution_count": 23,
   "metadata": {},
   "outputs": [
    {
     "data": {
      "text/plain": [
       "((10000, 350), (10000, 350))"
      ]
     },
     "execution_count": 23,
     "metadata": {},
     "output_type": "execute_result"
    }
   ],
   "source": [
    "fin_mal = np.array(fin_mal)\n",
    "fin_benign = np.array(fin_benign)\n",
    "fin_benign.shape, fin_mal.shape"
   ]
  },
  {
   "cell_type": "markdown",
   "metadata": {},
   "source": [
    "# Building the MalGAN\n",
    "*  MalGAN uses a substitute detector to fit the black-box malware detection system. A generative network is trained to minimize the generated adversarial examples’ malicious probabilities predicted by the substitute detector."
   ]
  },
  {
   "cell_type": "code",
   "execution_count": 12,
   "metadata": {},
   "outputs": [],
   "source": [
    "    noise_dim = 128\n",
    "    dense_dim = 1024\n",
    "    batch_size = 64\n",
    "    optimizer = tf.keras.optimizers.Adam(0.001)"
   ]
  },
  {
   "cell_type": "markdown",
   "metadata": {},
   "source": [
    "## Building the Generator\n",
    "* This generator generates new sample given the input of malware samples.\n",
    "* The generator finally produces the correct configuration of API calls and permission to bypass the BBD, at the same time conserving the neccacities of the actual Malware.\n",
    "* Stochastisity and diversity in generated samples is achieved by the random noise appended to the malware features.\n",
    "* The generator is used to transform a malware feature vector into its adversarial version. It takes the concatenation of a malware feature vector m and a noise vector z as input.\n",
    "* When generating adversarial examples for binary malware features we only consider to add some irrelevant features to malware. Removing a feature from the original malware maycrack it."
   ]
  },
  {
   "cell_type": "code",
   "execution_count": 13,
   "metadata": {},
   "outputs": [],
   "source": [
    "def generator():\n",
    "    \n",
    "    inp = tf.keras.layers.Input(shape=(no_features))\n",
    "    noise = tf.keras.layers.Input(shape=(noise_dim))\n",
    "    full_inp = tf.keras.layers.Concatenate(axis=1)([inp,noise])\n",
    "    #d_a1 = tf.keras.layers.Dense(2048)(full_inp)\n",
    "    d1 = tf.keras.layers.Dense(1024)(full_inp)\n",
    "    fin = tf.keras.layers.Dense(no_features,activation='sigmoid')(d1)\n",
    "    \n",
    "    out = tf.keras.layers.Maximum()([inp,fin])\n",
    "    \n",
    "    model = tf.keras.Model([inp,noise],out)\n",
    "    return model\n",
    "    "
   ]
  },
  {
   "cell_type": "markdown",
   "metadata": {},
   "source": [
    "## Building the discriminator\n",
    "* The discriminator is the adversary of the generator which detects wheather a sample is malware or benign.\n",
    "* It is the discriminator which guides the generator to produce convincing malware samples.\n",
    "* Since malware authors know nothing about the detailed structure of the black-box detector, the substitute detector is used to fit the black-box detector and provides gradient information to train the generator."
   ]
  },
  {
   "cell_type": "code",
   "execution_count": 14,
   "metadata": {},
   "outputs": [],
   "source": [
    "def discriminator():\n",
    "    \n",
    "    inp = tf.keras.layers.Input(shape=(no_features))\n",
    "    d2 = tf.keras.layers.Dense(1024)(inp)\n",
    "    \n",
    "    \n",
    "    out = tf.keras.layers.Dense(1)(d2)\n",
    "    \n",
    "    model = tf.keras.Model(inp,out)\n",
    "    return model"
   ]
  },
  {
   "cell_type": "markdown",
   "metadata": {},
   "source": [
    "## MalGAN (Combining generator and disriminator)\n",
    "\n",
    "* The training data of the substitute detector consist of adversarial malware examples from the generator, and benign programs from an additional benign dataset collected by malware authors. The ground-truth labels of the training data are not used to train the substitute detector. The goal of the substitute detector is to fit the black-box detector.\n",
    "* . The generator and the substitute detector work together to attack a machine learning based black-box malware detector."
   ]
  },
  {
   "cell_type": "code",
   "execution_count": 15,
   "metadata": {},
   "outputs": [],
   "source": [
    "def gan_total(gen,disc):\n",
    "    \n",
    "    inp = tf.keras.layers.Input(shape=(no_features))\n",
    "    noise = tf.keras.layers.Input(shape=(noise_dim))\n",
    "    full_inp = tf.keras.layers.Concatenate(axis=1)([inp,noise])\n",
    "    \n",
    "    gen_mal = gen([inp,noise])\n",
    "    disc.trainable = False\n",
    "    \n",
    "    disc_pred = disc(gen_mal)\n",
    "    \n",
    "    final_gan = tf.keras.Model([inp,noise],disc_pred)\n",
    "    \n",
    "    return final_gan"
   ]
  },
  {
   "cell_type": "code",
   "execution_count": 16,
   "metadata": {},
   "outputs": [],
   "source": [
    "    gen = generator()\n",
    "    disc = discriminator()\n",
    "    disc.compile(optimizer=optimizer,loss='mse')\n",
    "    gan = gan_total(gen,disc)\n",
    "    gan.compile(optimizer=optimizer,loss='mse')"
   ]
  },
  {
   "cell_type": "markdown",
   "metadata": {},
   "source": [
    "## Training the GAN\n",
    "* The batch size is chosen carefully so that the discrminator does not become too powerful.\n",
    "* The learning is set at different positions, 0.001, 0.0001, 0.0005, 0.005. The default 0.001 appears to work best.\n",
    "* Loss functions like crossentropy ans mse are tested. MSE appears to be quite stable while training and for good TPR's."
   ]
  },
  {
   "cell_type": "code",
   "execution_count": 17,
   "metadata": {},
   "outputs": [],
   "source": [
    "    def train_step():\n",
    "    \n",
    "        idx = np.random.randint(0, fin_mal.shape[0], batch_size)\n",
    "        mal_samples = fin_mal[idx]\n",
    "        noise = np.random.uniform(0, 1, (batch_size, noise_dim))\n",
    "    \n",
    "        idx = np.random.randint(0, fin_benign.shape[0], batch_size)\n",
    "        ben_samples = fin_benign[idx]\n",
    "        ben_labels = np.zeros((len(ben_samples),1))\n",
    "    \n",
    "        gen_samples = gen.predict([mal_samples, noise])\n",
    "        mal_labels = clf.predict(np.ones(gen_samples.shape)*(gen_samples > 0.5))\n",
    "    \n",
    "        d_loss_real = disc.train_on_batch(gen_samples, mal_labels)\n",
    "        d_loss_fake = disc.train_on_batch(ben_samples, ben_labels)\n",
    "        d_loss = (np.mean(d_loss_real)+np.mean(d_loss_fake))/2\n",
    "    \n",
    "        idx = np.random.randint(0, fin_mal.shape[0], batch_size)\n",
    "        mal_samples = fin_mal[idx]\n",
    "        noise = np.random.uniform(0, 1, (batch_size, noise_dim))\n",
    "\n",
    "        g_loss = gan.train_on_batch([mal_samples, noise], np.zeros((batch_size, 1)))\n",
    "    \n",
    "        noise = np.random.uniform(0, 1, (fin_mal.shape[0], noise_dim))\n",
    "        gen_samples = gen.predict([fin_mal, noise])\n",
    "        TPR = clf.score(np.ones(gen_samples.shape) * (gen_samples > 0.5), np.ones((len(fin_mal),1)))\n",
    "    \n",
    "        return d_loss,g_loss,TPR\n",
    "    "
   ]
  },
  {
   "cell_type": "code",
   "execution_count": 18,
   "metadata": {},
   "outputs": [
    {
     "name": "stdout",
     "output_type": "stream",
     "text": [
      ". . . . . . . . . . . . . . . . . . . . . . . . . . . . . . . . . . . . . . . . . . . . . . . . . . . . . . . . . . . . . . . . . . . . . . . . . . . . . . \n",
      "Epoch: 0  Disciminator Loss: 0.03  Generator Loss: 0.91  True Positive Rate: 0.95\n",
      ". . . . . . . . . . . . . . . . . . . . . . . . . . . . . . . . . . . . . . . . . . . . . . . . . . . . . . . . . . . . . . . . . . . . . . . . . . . . . . \n",
      "Epoch: 1  Disciminator Loss: 0.01  Generator Loss: 1.06  True Positive Rate: 0.96\n",
      ". . . . . . . . . . . . . . . . . . . . . . . . . . . . . . . . . . . . . . . . . . . . . . . . . . . . . . . . . . . . . . . . . . . . . . . . . . . . . . \n",
      "Epoch: 2  Disciminator Loss: 0.09  Generator Loss: 0.47  True Positive Rate: 0.63\n",
      ". . . . . . . . . . . . . . . . . . . . . . . . . . . . . . . . . . . . . . . . . . . . . . . . . . . . . . . . . . . . . . . . . . . . . . . . . . . . . . \n",
      "Epoch: 3  Disciminator Loss: 0.03  Generator Loss: 0.23  True Positive Rate: 0.30\n",
      ". . . . . . . . . . . . . . . . . . . . . . . . . . . . . . . . . . . . . . . . . . . . . . . . . . . . . . . . . . . . . . . . . . . . . . . . . . . . . . \n",
      "Epoch: 4  Disciminator Loss: 0.01  Generator Loss: 0.34  True Positive Rate: 0.27\n",
      ". . . . . . . . . . . . . . . . . . . . . . . . . . . . . . . . . . . . . . . . . . . . . . . . . . . . . . . . . . . . . . . . . . . . . . . . . . . . . . \n",
      "Epoch: 5  Disciminator Loss: 0.00  Generator Loss: 0.27  True Positive Rate: 0.27\n",
      ". . . . . . . . . . . . . . . . . . . . . . . . . . . . . . . . . . . . . . . . . . . . . . . . . . . . . . . . . . . . . . . . . . . . . . . . . . . . . . \n",
      "Epoch: 6  Disciminator Loss: 0.01  Generator Loss: 0.25  True Positive Rate: 0.26\n",
      ". . . . . . . . . . . . . . . . . . . . . . . . . . . . . . . . . . . . . . . . . . . . . . . . . . . . . . . . . . . . . . . . . . . . . . . . . . . . . . \n",
      "Epoch: 7  Disciminator Loss: 0.00  Generator Loss: 0.27  True Positive Rate: 0.25\n",
      ". . . . . . . . . . . . . . . . . . . . . . . . . . . . . . . . . . . . . . . . . . . . . . . . . . . . . . . . . . . . . . . . . . . . . . . . . . . . . . \n",
      "Epoch: 8  Disciminator Loss: 0.01  Generator Loss: 0.27  True Positive Rate: 0.25\n",
      ". . . . . . . . . . . . . . . . . . . . . . . . . . . . . . . . . . . . . . . . . . . . . . . . . . . . . . . . . . . . . . . . . . . . . . . . . . . . . . \n",
      "Epoch: 9  Disciminator Loss: 0.01  Generator Loss: 0.27  True Positive Rate: 0.25\n",
      ". . . . . . . . . . . . . . . . . . . . . . . . . . . . . . . . . . . . . . . . . . . . . . . . . . . . . . . . . . . . . . . . . . . . . . . . . . . . . . \n",
      "Epoch: 10  Disciminator Loss: 0.01  Generator Loss: 0.16  True Positive Rate: 0.25\n",
      ". . . . . . . . . . . . . . . . . . . . . . . . . . . . . . . . . . . . . . . . . . . . . . . . . . . . . . . . . . . . . . . . . . . . . . . . . . . . . . \n",
      "Epoch: 11  Disciminator Loss: 0.01  Generator Loss: 0.18  True Positive Rate: 0.25\n",
      ". . . . . . . . . . . . . . . . . . . . . . . . . . . . . . . . . . . . . . . . . . . . . . . . . . . . . . . . . . . . . . . . . . . . . . . . . . . . . . \n",
      "Epoch: 12  Disciminator Loss: 0.03  Generator Loss: 0.43  True Positive Rate: 0.25\n",
      ". . . . . . . . . . . . . . . . . . . . . . . . . . . . . . . . . . . . . . . . . . . . . . . . . . . . . . . . . . . . . . . . . . . . . . . . . . . . . . \n",
      "Epoch: 13  Disciminator Loss: 0.03  Generator Loss: 0.22  True Positive Rate: 0.25\n",
      ". . . . . . . . . . . . . . . . . . . . . . . . . . . . . . . . . . . . . . . . . . . . . . . . . . . . . . . . . . . . . . . . . . . . . . . . . . . . . . \n",
      "Epoch: 14  Disciminator Loss: 0.01  Generator Loss: 0.21  True Positive Rate: 0.25\n",
      ". . . . . . . . . . . . . . . . . . . . . . . . . . . . . . . . . . . . . . . . . . . . . . . . . . . . . . . . . . . . . . . . . . . . . . . . . . . . . . \n",
      "Epoch: 15  Disciminator Loss: 0.02  Generator Loss: 0.38  True Positive Rate: 0.25\n",
      ". . . . . . . . . . . . . . . . . . . . . . . . . . . . . . . . . . . . . . . . . . . . . . . . . . . . . . . . . . . . . . . . . . . . . . . . . . . . . . \n",
      "Epoch: 16  Disciminator Loss: 0.02  Generator Loss: 0.22  True Positive Rate: 0.25\n",
      ". . . . . . . . . . . . . . . . . . . . . . . . . . . . . . . . . . . . . . . . . . . . . . . . . . . . . . . . . . . . . . . . . . . . . . . . . . . . . . \n",
      "Epoch: 17  Disciminator Loss: 0.02  Generator Loss: 0.34  True Positive Rate: 0.25\n",
      ". . . . . . . . . . . . . . . . . . . . . . . . . . . . . . . . . . . . . . . . . . . . . . . . . . . . . . . . . . . . . . . . . . . . . . . . . . . . . . \n",
      "Epoch: 18  Disciminator Loss: 0.01  Generator Loss: 0.31  True Positive Rate: 0.25\n",
      ". . . . . . . . . . . . . . . . . . . . . . . . . . . . . . . . . . . . . . . . . . . . . . . . . . . . . . . . . . . . . . . . . . . . . . . . . . . . . . \n",
      "Epoch: 19  Disciminator Loss: 0.01  Generator Loss: 0.22  True Positive Rate: 0.25\n"
     ]
    }
   ],
   "source": [
    "epochs = 20\n",
    "tpr_plot = []\n",
    "gen_loss_plot = []\n",
    "disc_loss_plot= []\n",
    "max_tpr = 1\n",
    "for ep in range(epochs):\n",
    "    \n",
    "    no_steps = len(fin_mal)//batch_size\n",
    "    \n",
    "    for step in range(no_steps):\n",
    "        d_loss,g_loss,TPR = train_step()\n",
    "        print(\". \",end='')\n",
    "    \n",
    "    if TPR <max_tpr:\n",
    "        gen.save('generator.h5')\n",
    "        max_tpr = TPR\n",
    "    tpr_plot.append(TPR)\n",
    "    gen_loss_plot.append(g_loss)\n",
    "    disc_loss_plot.append(d_loss)\n",
    "    \n",
    "    print(\"\\nEpoch:\",ep,\" Disciminator Loss: {:.2f}\".format(d_loss),\" Generator Loss: {:.2f}\".format(g_loss),\" True Positive Rate: {:.2f}\".format(TPR))"
   ]
  },
  {
   "cell_type": "code",
   "execution_count": 19,
   "metadata": {},
   "outputs": [
    {
     "data": {
      "text/plain": [
       "[<matplotlib.lines.Line2D at 0x7fd2dc842d90>]"
      ]
     },
     "execution_count": 19,
     "metadata": {},
     "output_type": "execute_result"
    },
    {
     "data": {
      "image/png": "[encoded data removed]",
      "text/plain": [
       "<Figure size 432x288 with 1 Axes>"
      ]
     },
     "metadata": {
      "needs_background": "light"
     },
     "output_type": "display_data"
    }
   ],
   "source": [
    "## TPR plot\n",
    "import matplotlib.pyplot as plt\n",
    "plt.plot(range(0,len(tpr_plot)),tpr_plot)"
   ]
  },
  {
   "cell_type": "code",
   "execution_count": 20,
   "metadata": {},
   "outputs": [
    {
     "data": {
      "text/plain": [
       "[<matplotlib.lines.Line2D at 0x7fd28cef3dd0>]"
      ]
     },
     "execution_count": 20,
     "metadata": {},
     "output_type": "execute_result"
    },
    {
     "data": {
      "image/png": "[encoded data removed]",
      "text/plain": [
       "<Figure size 432x288 with 1 Axes>"
      ]
     },
     "metadata": {
      "needs_background": "light"
     },
     "output_type": "display_data"
    }
   ],
   "source": [
    "## Generator Plot\n",
    "import matplotlib.pyplot as plt\n",
    "plt.plot(range(0,len(tpr_plot)),gen_loss_plot)"
   ]
  },
  {
   "cell_type": "markdown",
   "metadata": {},
   "source": [
    "# Experimentation\n",
    "Experimentation Setup:\n",
    "\n",
    "-> Initially we have taken 160 features, but got TPR of about 60%. This is because, the 160 features are not able to explain the complete variance in the dataset.So we took 350 features.\n",
    "\n",
    "-> Optimal batch size is considered to be 128. In practice, for a GAN, lesser the batch size, better the performance. But less batch sizes takes hours to train, which makes it difficult to further analyze. So, batchs sizes of 64 and 128 are recommended and is a tradeoff with speed.\n",
    "\n",
    "-> The optimal learning rate is set to 0.001. Learning rates of 0.05 and 0.01 tried but gave poor results because of such large step sizes in the initial stages. Lower rate like 0.0001 led to stable convergence but more TPR.\n",
    "\n",
    "-> Uniform Noise of dimension 128 is used. More noise dimensions can help the generator come with good moves to fool the discriminator. Dimension size of 30 also worked but higher dimensions gives better results.\n",
    "\n",
    "-> Dense dimensions of 256 has not enough capacity as the disciminator overthrown the generator leading to bad generations. Dimensions above 512 are used especially if the noise dimension is high.\n",
    "\n",
    "The metric of Evaluation used is True Positive Rate (TPR).\n",
    "It is the no of times the BBD is able to identify the malware correctly. We want this to be lower."
   ]
  },
  {
   "cell_type": "code",
   "execution_count": null,
   "metadata": {},
   "outputs": [],
   "source": []
  }
 ],
 "metadata": {
  "kernelspec": {
   "display_name": "Python 3",
   "language": "python",
   "name": "python3"
  },
  "language_info": {
   "codemirror_mode": {
    "name": "ipython",
    "version": 3
   },
   "file_extension": ".py",
   "mimetype": "text/x-python",
   "name": "python",
   "nbconvert_exporter": "python",
   "pygments_lexer": "ipython3",
   "version": "3.8.3"
  }
 },
 "nbformat": 4,
 "nbformat_minor": 4
}

{
 "cells": [
  {
   "cell_type": "code",
   "execution_count": 1,
   "metadata": {
    "_cell_guid": "b1076dfc-b9ad-4769-8c92-a6c4dae69d19",
    "_uuid": "8f2839f25d086af736a60e9eeb907d3b93b6e0e5"
   },
   "outputs": [],
   "source": [
    "import numpy as np\n",
    "import os\n",
    "import pandas as pd\n",
    "import tensorflow as tf"
   ]
  },
  {
   "cell_type": "code",
   "execution_count": 2,
   "metadata": {
    "_cell_guid": "79c7e3d0-c299-4dcb-8224-4455121ee9b0",
    "_uuid": "d629ff2d2480ee46fbb7e2d37f6b5fab8052498a"
   },
   "outputs": [],
   "source": [
    "raw_mal = pd.read_csv('../input/ml-final-dataset/Malware_Data.csv')\n",
    "raw_benign = pd.read_csv('../input/ml-final-dataset/PlayStore Application.csv')"
   ]
  },
  {
   "cell_type": "code",
   "execution_count": 3,
   "metadata": {},
   "outputs": [],
   "source": [
    "l = raw_benign.isnull().sum()\n",
    "rem_col = []\n",
    "for i,col in enumerate(raw_benign.columns):\n",
    "    if l[i]>1000:\n",
    "        rem_col.append(col)\n",
    "raw_benign = raw_benign.drop(rem_col,axis=1)\n",
    "raw_mal = raw_mal.drop(rem_col,axis=1)"
   ]
  },
  {
   "cell_type": "code",
   "execution_count": 4,
   "metadata": {},
   "outputs": [],
   "source": [
    "no_features=350\n",
    "no_samples = 10000"
   ]
  },
  {
   "cell_type": "code",
   "execution_count": 5,
   "metadata": {},
   "outputs": [],
   "source": [
    "fin_mal = raw_mal.iloc[:,2:no_features+2]\n",
    "fin_benign = raw_benign.iloc[:20000,2:no_features+2]\n",
    "mal_labels = np.ones((fin_mal.shape[0],1))\n",
    "benign_labels = np.zeros((fin_benign.shape[0],1))"
   ]
  },
  {
   "cell_type": "code",
   "execution_count": 1,
   "metadata": {},
   "outputs": [
    {
     "ename": "NameError",
     "evalue": "name 'mal_labels' is not defined",
     "output_type": "error",
     "traceback": [
      "\u001b[1;31m---------------------------------------------------------------------------\u001b[0m",
      "\u001b[1;31mNameError\u001b[0m                                 Traceback (most recent call last)",
      "\u001b[1;32m<ipython-input-1-f916e36e0ab3>\u001b[0m in \u001b[0;36m<module>\u001b[1;34m\u001b[0m\n\u001b[1;32m----> 1\u001b[1;33m \u001b[0mprint\u001b[0m\u001b[1;33m(\u001b[0m\u001b[0mmal_labels\u001b[0m\u001b[1;33m.\u001b[0m\u001b[0mshape\u001b[0m\u001b[1;33m[\u001b[0m\u001b[1;36m0\u001b[0m\u001b[1;33m]\u001b[0m\u001b[1;33m)\u001b[0m\u001b[1;33m\u001b[0m\u001b[1;33m\u001b[0m\u001b[0m\n\u001b[0m\u001b[0;32m      2\u001b[0m \u001b[0mprint\u001b[0m\u001b[1;33m(\u001b[0m\u001b[0mbenign_labels\u001b[0m\u001b[1;33m.\u001b[0m\u001b[0mshape\u001b[0m\u001b[1;33m[\u001b[0m\u001b[1;36m0\u001b[0m\u001b[1;33m]\u001b[0m\u001b[1;33m)\u001b[0m\u001b[1;33m\u001b[0m\u001b[1;33m\u001b[0m\u001b[0m\n",
      "\u001b[1;31mNameError\u001b[0m: name 'mal_labels' is not defined"
     ]
    }
   ],
   "source": [
    "print(mal_labels.shape[0])\n",
    "print(benign_labels.shape[0])\n"
   ]
  },
  {
   "cell_type": "code",
   "execution_count": 2,
   "metadata": {},
   "outputs": [
    {
     "ename": "NameError",
     "evalue": "name 'pd' is not defined",
     "output_type": "error",
     "traceback": [
      "\u001b[1;31m---------------------------------------------------------------------------\u001b[0m",
      "\u001b[1;31mNameError\u001b[0m                                 Traceback (most recent call last)",
      "\u001b[1;32m<ipython-input-2-d7504a0499ac>\u001b[0m in \u001b[0;36m<module>\u001b[1;34m\u001b[0m\n\u001b[1;32m----> 1\u001b[1;33m \u001b[0mtotal_data\u001b[0m \u001b[1;33m=\u001b[0m \u001b[0mpd\u001b[0m\u001b[1;33m.\u001b[0m\u001b[0mconcat\u001b[0m\u001b[1;33m(\u001b[0m\u001b[1;33m[\u001b[0m\u001b[0mfin_mal\u001b[0m\u001b[1;33m,\u001b[0m\u001b[0mfin_benign\u001b[0m\u001b[1;33m]\u001b[0m\u001b[1;33m,\u001b[0m\u001b[0maxis\u001b[0m\u001b[1;33m=\u001b[0m\u001b[1;36m0\u001b[0m\u001b[1;33m)\u001b[0m\u001b[1;33m\u001b[0m\u001b[1;33m\u001b[0m\u001b[0m\n\u001b[0m\u001b[0;32m      2\u001b[0m \u001b[0mtotal_labels\u001b[0m \u001b[1;33m=\u001b[0m \u001b[0mpd\u001b[0m\u001b[1;33m.\u001b[0m\u001b[0mconcat\u001b[0m\u001b[1;33m(\u001b[0m\u001b[1;33m[\u001b[0m\u001b[0mpd\u001b[0m\u001b[1;33m.\u001b[0m\u001b[0mDataFrame\u001b[0m\u001b[1;33m(\u001b[0m\u001b[0mmal_labels\u001b[0m\u001b[1;33m)\u001b[0m\u001b[1;33m,\u001b[0m\u001b[0mpd\u001b[0m\u001b[1;33m.\u001b[0m\u001b[0mDataFrame\u001b[0m\u001b[1;33m(\u001b[0m\u001b[0mbenign_labels\u001b[0m\u001b[1;33m)\u001b[0m\u001b[1;33m]\u001b[0m\u001b[1;33m,\u001b[0m\u001b[0maxis\u001b[0m\u001b[1;33m=\u001b[0m\u001b[1;36m0\u001b[0m\u001b[1;33m)\u001b[0m\u001b[1;33m\u001b[0m\u001b[1;33m\u001b[0m\u001b[0m\n",
      "\u001b[1;31mNameError\u001b[0m: name 'pd' is not defined"
     ]
    }
   ],
   "source": [
    "total_data = pd.concat([fin_mal,fin_benign],axis=0)\n",
    "total_labels = pd.concat([pd.DataFrame(mal_labels),pd.DataFrame(benign_labels)],axis=0)"
   ]
  },
  {
   "cell_type": "code",
   "execution_count": 3,
   "metadata": {},
   "outputs": [
    {
     "ename": "NameError",
     "evalue": "name 'total_data' is not defined",
     "output_type": "error",
     "traceback": [
      "\u001b[1;31m---------------------------------------------------------------------------\u001b[0m",
      "\u001b[1;31mNameError\u001b[0m                                 Traceback (most recent call last)",
      "\u001b[1;32m<ipython-input-3-7b9b9788526f>\u001b[0m in \u001b[0;36m<module>\u001b[1;34m\u001b[0m\n\u001b[0;32m      1\u001b[0m \u001b[1;32mfrom\u001b[0m \u001b[0msklearn\u001b[0m\u001b[1;33m.\u001b[0m\u001b[0mmodel_selection\u001b[0m \u001b[1;32mimport\u001b[0m \u001b[0mtrain_test_split\u001b[0m\u001b[1;33m\u001b[0m\u001b[1;33m\u001b[0m\u001b[0m\n\u001b[1;32m----> 2\u001b[1;33m \u001b[0mX_train\u001b[0m\u001b[1;33m,\u001b[0m \u001b[0mX_test\u001b[0m\u001b[1;33m,\u001b[0m \u001b[0my_train\u001b[0m\u001b[1;33m,\u001b[0m \u001b[0my_test\u001b[0m \u001b[1;33m=\u001b[0m \u001b[0mtrain_test_split\u001b[0m\u001b[1;33m(\u001b[0m\u001b[0mtotal_data\u001b[0m\u001b[1;33m,\u001b[0m\u001b[0mtotal_labels\u001b[0m\u001b[1;33m,\u001b[0m\u001b[0mtest_size\u001b[0m\u001b[1;33m=\u001b[0m\u001b[1;36m0.3\u001b[0m\u001b[1;33m)\u001b[0m\u001b[1;33m\u001b[0m\u001b[1;33m\u001b[0m\u001b[0m\n\u001b[0m",
      "\u001b[1;31mNameError\u001b[0m: name 'total_data' is not defined"
     ]
    }
   ],
   "source": [
    "from sklearn.model_selection import train_test_split\n",
    "X_train, X_test, y_train, y_test = train_test_split(total_data,total_labels,test_size=0.3)"
   ]
  },
  {
   "cell_type": "code",
   "execution_count": null,
   "metadata": {},
   "outputs": [],
   "source": [
    "from sklearn.ensemble import RandomForestClassifier\n",
    "clf = RandomForestClassifier(n_estimators=200, random_state=0)\n",
    "clf.fit(total_data,total_labels)\n",
    "clf.score(X_test,y_test)"
   ]
  },
  {
   "cell_type": "code",
   "execution_count": null,
   "metadata": {},
   "outputs": [],
   "source": [
    "from sklearn.model_selection import KFold\n",
    "from sklearn.model_selection import cross_val_score\n",
    "kf = KFold(n_splits=10)\n",
    "score = cross_val_score(RandomForestClassifier(n_estimators=100, random_state=0),total_data,total_labels)\n",
    "print(score)"
   ]
  },
  {
   "cell_type": "code",
   "execution_count": null,
   "metadata": {},
   "outputs": [],
   "source": [
    "fin_mal = np.array(fin_mal)\n",
    "fin_benign = np.array(fin_benign)\n",
    "fin_benign.shape, fin_mal.shape"
   ]
  },
  {
   "cell_type": "code",
   "execution_count": null,
   "metadata": {},
   "outputs": [],
   "source": [
    "    noise_dim = 128\n",
    "    dense_dim = 1024\n",
    "    batch_size = 64\n",
    "    optimizer = tf.keras.optimizers.Adam(0.001)"
   ]
  },
  {
   "cell_type": "code",
   "execution_count": null,
   "metadata": {},
   "outputs": [],
   "source": [
    "def generator():\n",
    "    \n",
    "    inp = tf.keras.layers.Input(shape=(no_features))\n",
    "    noise = tf.keras.layers.Input(shape=(noise_dim))\n",
    "    full_inp = tf.keras.layers.Concatenate(axis=1)([inp,noise])\n",
    "    #d_a1 = tf.keras.layers.Dense(2048)(full_inp)\n",
    "    d1 = tf.keras.layers.Dense(1024)(full_inp)\n",
    "    fin = tf.keras.layers.Dense(no_features,activation='sigmoid')(d1)\n",
    "    \n",
    "    out = tf.keras.layers.Maximum()([inp,fin])\n",
    "    \n",
    "    model = tf.keras.Model([inp,noise],out)\n",
    "    return model\n",
    "    "
   ]
  },
  {
   "cell_type": "code",
   "execution_count": null,
   "metadata": {},
   "outputs": [],
   "source": [
    "def discriminator():\n",
    "    \n",
    "    inp = tf.keras.layers.Input(shape=(no_features))\n",
    "    d2 = tf.keras.layers.Dense(1024)(inp)\n",
    "    \n",
    "    \n",
    "    out = tf.keras.layers.Dense(1)(d2)\n",
    "    \n",
    "    model = tf.keras.Model(inp,out)\n",
    "    return model"
   ]
  },
  {
   "cell_type": "code",
   "execution_count": null,
   "metadata": {},
   "outputs": [],
   "source": [
    "def gan_total(gen,disc):\n",
    "    \n",
    "    inp = tf.keras.layers.Input(shape=(no_features))\n",
    "    noise = tf.keras.layers.Input(shape=(noise_dim))\n",
    "    full_inp = tf.keras.layers.Concatenate(axis=1)([inp,noise])\n",
    "    \n",
    "    gen_mal = gen([inp,noise])\n",
    "    disc.trainable = False\n",
    "    \n",
    "    disc_pred = disc(gen_mal)\n",
    "    \n",
    "    final_gan = tf.keras.Model([inp,noise],disc_pred)\n",
    "    \n",
    "    return final_gan"
   ]
  },
  {
   "cell_type": "code",
   "execution_count": null,
   "metadata": {},
   "outputs": [],
   "source": [
    "    gen = generator()\n",
    "    disc = discriminator()\n",
    "    disc.compile(optimizer=optimizer,loss='mse')\n",
    "    gan = gan_total(gen,disc)\n",
    "    gan.compile(optimizer=optimizer,loss='mse')"
   ]
  },
  {
   "cell_type": "code",
   "execution_count": null,
   "metadata": {},
   "outputs": [],
   "source": [
    "    def train_step():\n",
    "    \n",
    "        idx = np.random.randint(0, fin_mal.shape[0], batch_size)\n",
    "        mal_samples = fin_mal[idx]\n",
    "        noise = np.random.uniform(0, 1, (batch_size, noise_dim))\n",
    "    \n",
    "        idx = np.random.randint(0, fin_benign.shape[0], batch_size)\n",
    "        ben_samples = fin_benign[idx]\n",
    "        ben_labels = np.zeros((len(ben_samples),1))\n",
    "    \n",
    "        gen_samples = gen.predict([mal_samples, noise])\n",
    "        mal_labels = clf.predict(np.ones(gen_samples.shape)*(gen_samples > 0.5))\n",
    "    \n",
    "        d_loss_real = disc.train_on_batch(gen_samples, mal_labels)\n",
    "        d_loss_fake = disc.train_on_batch(ben_samples, ben_labels)\n",
    "        d_loss = (np.mean(d_loss_real)+np.mean(d_loss_fake))/2\n",
    "    \n",
    "        idx = np.random.randint(0, fin_mal.shape[0], batch_size)\n",
    "        mal_samples = fin_mal[idx]\n",
    "        noise = np.random.uniform(0, 1, (batch_size, noise_dim))\n",
    "\n",
    "        g_loss = gan.train_on_batch([mal_samples, noise], np.zeros((batch_size, 1)))\n",
    "    \n",
    "        noise = np.random.uniform(0, 1, (fin_mal.shape[0], noise_dim))\n",
    "        gen_samples = gen.predict([fin_mal, noise])\n",
    "        TPR = clf.score(np.ones(gen_samples.shape) * (gen_samples > 0.5), np.ones((len(fin_mal),1)))\n",
    "    \n",
    "        return d_loss,g_loss,TPR\n",
    "    "
   ]
  },
  {
   "cell_type": "code",
   "execution_count": null,
   "metadata": {},
   "outputs": [],
   "source": [
    "epochs = 20\n",
    "tpr_plot = []\n",
    "gen_loss_plot = []\n",
    "disc_loss_plot= []\n",
    "max_tpr = 1\n",
    "for ep in range(epochs):\n",
    "    \n",
    "    no_steps = len(fin_mal)//batch_size\n",
    "    \n",
    "    for step in range(no_steps):\n",
    "        d_loss,g_loss,TPR = train_step()\n",
    "        print(\". \",end='')\n",
    "    \n",
    "    if TPR <max_tpr:\n",
    "        gen.save('generator.h5')\n",
    "        max_tpr = TPR\n",
    "    tpr_plot.append(TPR)\n",
    "    gen_loss_plot.append(g_loss)\n",
    "    disc_loss_plot.append(d_loss)\n",
    "    \n",
    "    print(\"\\nEpoch:\",ep,\" Disciminator Loss: {:.2f}\".format(d_loss),\" Generator Loss: {:.2f}\".format(g_loss),\" True Positive Rate: {:.2f}\".format(TPR))"
   ]
  },
  {
   "cell_type": "code",
   "execution_count": null,
   "metadata": {},
   "outputs": [],
   "source": [
    "## TPR plot\n",
    "import matplotlib.pyplot as plt\n",
    "plt.plot(range(0,len(tpr_plot)),tpr_plot)"
   ]
  },
  {
   "cell_type": "code",
   "execution_count": null,
   "metadata": {},
   "outputs": [],
   "source": [
    "## Generator Plot\n",
    "import matplotlib.pyplot as plt\n",
    "plt.plot(range(0,len(tpr_plot)),gen_loss_plot)"
   ]
  }
 ],
 "metadata": {
  "kernelspec": {
   "display_name": "Python 3",
   "language": "python",
   "name": "python3"
  },
  "language_info": {
   "codemirror_mode": {
    "name": "ipython",
    "version": 3
   },
   "file_extension": ".py",
   "mimetype": "text/x-python",
   "name": "python",
   "nbconvert_exporter": "python",
   "pygments_lexer": "ipython3",
   "version": "3.8.3"
  }
 },
 "nbformat": 4,
 "nbformat_minor": 4
}
